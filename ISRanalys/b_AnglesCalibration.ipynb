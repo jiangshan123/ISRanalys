{
 "cells": [
  {
   "cell_type": "markdown",
   "metadata": {},
   "source": [
    "# Calibrate the angles using STO peak position"
   ]
  },
  {
   "cell_type": "code",
   "execution_count": 37,
   "metadata": {
    "collapsed": true
   },
   "outputs": [],
   "source": [
    "%matplotlib inline\n",
    "import h5py\n",
    "import sys\n",
    "import numpy as np\n",
    "import matplotlib as mpl\n",
    "import matplotlib.pyplot as plt\n",
    "import matplotlib.cm as cm\n",
    "from scipy.optimize import fsolve"
   ]
  },
  {
   "cell_type": "code",
   "execution_count": 38,
   "metadata": {},
   "outputs": [
    {
     "name": "stdout",
     "output_type": "stream",
     "text": [
      "1.0971955769082515 1.020446069022299\n"
     ]
    }
   ],
   "source": [
    "def wavelenth(energy): #energy unit: keV\n",
    "    h = 4.135667662 * 10**(-18) #keV*s Planck constant\n",
    "    c = 2.99792458 * 10**18 #A speed of light\n",
    "    return h*c/energy\n",
    "print(wavelenth(11.3001) , wavelenth(12.15))"
   ]
  },
  {
   "cell_type": "code",
   "execution_count": 39,
   "metadata": {
    "collapsed": true
   },
   "outputs": [],
   "source": [
    "def degtoarc (deg):\n",
    "    \"\"\"converts degree to arcs\n",
    "    deg: float\n",
    "    returns: float\n",
    "    \"\"\"\n",
    "    return deg/180*np.pi\n",
    "\n",
    "def arctodeg (arc):\n",
    "    \"\"\"converts arcs to degree\n",
    "    arc: float\n",
    "    returns: float\n",
    "    \"\"\"\n",
    "    return arc*180/np.pi"
   ]
  },
  {
   "cell_type": "code",
   "execution_count": 40,
   "metadata": {
    "collapsed": true
   },
   "outputs": [],
   "source": [
    "def AnglesToQ(lamda, th, zeta, delta, nu): # angles should be numpy arrays.\n",
    "    #convert all degrees to arc.\n",
    "    th_a = degtoarc(th)\n",
    "    zeta_a = degtoarc(zeta)\n",
    "    delta_a = degtoarc(delta)\n",
    "    nu_a = degtoarc(nu)\n",
    "    Qx = 2.0 * np.pi / lamda * (np.cos(th_a)*np.sin(delta_a)-np.sin(th_a)*((np.cos(zeta_a)*(np.cos(nu_a)*np.cos(delta_a)-1)+np.sin(zeta_a)*np.sin(nu_a)*np.cos(delta_a))))\n",
    "    Qy = 2.0 * np.pi / lamda * (np.sin(th_a)*np.sin(delta_a)+np.cos(th_a)*((np.cos(zeta_a)*(np.cos(nu_a)*np.cos(delta_a)-1)+np.sin(zeta_a)*np.sin(nu_a)*np.cos(delta_a))))\n",
    "    Qz = 2.0 * np.pi / lamda * (-np.sin(zeta_a)*(np.cos(nu_a)*np.cos(delta_a)-1) + np.cos(zeta_a)*np.sin(nu_a)*np.cos(delta_a)) + th * 0.0\n",
    "    return Qx, Qy, Qz\n",
    "lamda = wavelenth(11.3001)"
   ]
  },
  {
   "cell_type": "code",
   "execution_count": 41,
   "metadata": {
    "collapsed": true
   },
   "outputs": [],
   "source": [
    "def QTohkl(a, Qx, Qy, Qz): # a is the lattice prameter of STO\n",
    "    return a / (2.0 * np.pi) * Qx, a / (2.0 * np.pi) * Qy, a /(2.0 * np.pi) * Qz #return h, k, l"
   ]
  },
  {
   "cell_type": "code",
   "execution_count": 42,
   "metadata": {
    "collapsed": true
   },
   "outputs": [],
   "source": [
    "def QToCA (Qx, Qz): ##converting Qx and Qz to a and c\n",
    "    return (2.0 * np.pi)/Qx, (2.0 * np.pi)/Qz ##returns a, c"
   ]
  },
  {
   "cell_type": "code",
   "execution_count": 43,
   "metadata": {
    "collapsed": true
   },
   "outputs": [],
   "source": [
    "dtheta = (75.0*10**(-6))/(35.0*10**(-2))*180.0/np.pi # angle per pixel"
   ]
  },
  {
   "cell_type": "code",
   "execution_count": 48,
   "metadata": {},
   "outputs": [
    {
     "name": "stdout",
     "output_type": "stream",
     "text": [
      "4.27679469439 12 16.2646710866 16.3578962136\n",
      "(4.2767946943935726, -576.73629033741327, 1631.3293555897958)\n",
      "4.27679469439 12 16.2646710866 16.3578962136\n"
     ]
    }
   ],
   "source": [
    "def STOcalibration(lamda,a,x,y,zeta):\n",
    "    def equations(i):\n",
    "        lamda = wavelenth(11.3001)\n",
    "        a = 3.9066\n",
    "        th, delta, nu = i[0], i[1], i[2]\n",
    "        Qx, Qy, Qz = AnglesToQ(lamda, th, zeta, delta, nu)\n",
    "        h, k, l = QTohkl(a, Qx, Qy, Qz)\n",
    "        return(h-1.0, k ,l-1.0)\n",
    "    s = fsolve(equations,[1, 1, 1])\n",
    "    for i in range(3):\n",
    "        while s[i]>180.0:\n",
    "            s[i] -= 360.0\n",
    "        while s[i]<-180.0:\n",
    "            s[i] += 360.0\n",
    "    th, delta, nu = s[0], s[1], s[2]\n",
    "    print(th,zeta,delta,nu)\n",
    "\n",
    "    return th, float(x)-delta/dtheta, float(y)+nu/dtheta #return th, (x_offset, y_offset)\n",
    "print(STOcalibration(lamda,3.9066,748,299,12))\n",
    "zeta = 12\n",
    "th, x_offset, y_offset = STOcalibration(lamda,3.9066,748,299,zeta)\n",
    "def PixelsToAngles(x,y): # x and y are numpy arrays.\n",
    "    return dtheta * (x - x_offset), -dtheta * (y - y_offset) #return delta, nu"
   ]
  },
  {
   "cell_type": "code",
   "execution_count": 49,
   "metadata": {
    "collapsed": true
   },
   "outputs": [],
   "source": [
    "def STOangles(a,lamda,h,k,l,th,zeta,delta,nu):\n",
    "    size = 10\n",
    "    \n",
    "    #make one of them variable.\n",
    "    th_range = np.array(range(0,size*10,1))*0.1 + th - size/2.0\n",
    "    zeta_range = np.array(range(0,size*10,1))*0.1 + zeta - size/2.0\n",
    "    delta_range = np.array(range(0,size*10,1))*0.1 + delta - size/2.0\n",
    "    nu_range = np.array(range(0,size*10,1))*0.1 + nu - size/2.0\n",
    "\n",
    "\n",
    "    #plot \n",
    "    plt.figure(num = 'hkl',figsize=(10,10))\n",
    "    \n",
    "    #plot hkl vs th\n",
    "    Qx, Qy, Qz = AnglesToQ(lamda, th_range, zeta, delta, nu)\n",
    "    h, k, l = QTohkl(a, Qx, Qy, Qz)\n",
    "    plt.subplot(3,4,1)\n",
    "    plt.title(\"th\")\n",
    "    plt.ylabel(\"h\",fontsize = 15)\n",
    "    plt.plot(th_range,h)\n",
    "    plt.ylim(0.9,1.1)\n",
    "    plt.axvline(x = th,linestyle = '-.',linewidth = 0.7,color = 'black')\n",
    "    plt.axhline(y = 1.0,linestyle = '-.',linewidth = 0.7,color = 'black')\n",
    "    plt.subplot(3,4,5)\n",
    "    plt.ylabel(\"k\",fontsize = 15)\n",
    "    plt.plot(th_range,k)\n",
    "    plt.ylim(-0.1,0.1)\n",
    "    plt.axvline(x = th,linestyle = '-.',linewidth = 0.7,color = 'black')\n",
    "    plt.axhline(y = 0.0,linestyle = '-.',linewidth = 0.7,color = 'black')\n",
    "    plt.subplot(3,4,9)\n",
    "    plt.ylabel(\"l\",fontsize = 15)\n",
    "    plt.plot(th_range,l)\n",
    "    plt.ylim(0.9,1.1)\n",
    "    plt.axvline(x = th,linestyle = '-.',linewidth = 0.7,color = 'black')\n",
    "    plt.axhline(y = 1.0,linestyle = '-.',linewidth = 0.7,color = 'black')\n",
    "    \n",
    "    #plot hkl vs zeta\n",
    "    Qx, Qy, Qz = AnglesToQ(lamda, th, zeta_range, delta, nu)\n",
    "    h, k, l = QTohkl(a, Qx, Qy, Qz)\n",
    "    plt.subplot(3,4,2)\n",
    "    plt.title(\"zeta\")\n",
    "    plt.plot(zeta_range,h)\n",
    "    plt.ylim(0.9,1.1)\n",
    "    plt.axvline(x = zeta,linestyle = '-.',linewidth = 0.7,color = 'black')\n",
    "    plt.axhline(y = 1.0,linestyle = '-.',linewidth = 0.7,color = 'black')\n",
    "    plt.subplot(3,4,6)\n",
    "    plt.plot(zeta_range,k)\n",
    "    plt.ylim(-0.1,0.1)\n",
    "    plt.axvline(x = zeta,linestyle = '-.',linewidth = 0.7,color = 'black')\n",
    "    plt.axhline(y = 0.0,linestyle = '-.',linewidth = 0.7,color = 'black')\n",
    "    plt.subplot(3,4,10)\n",
    "    plt.plot(zeta_range,l)\n",
    "    plt.ylim(0.9,1.1)\n",
    "    plt.axvline(x = zeta,linestyle = '-.',linewidth = 0.7,color = 'black')\n",
    "    plt.axhline(y = 1.0,linestyle = '-.',linewidth = 0.7,color = 'black') \n",
    "    \n",
    "    #plot hkl vs delta\n",
    "    Qx, Qy, Qz = AnglesToQ(lamda, th, zeta, delta_range, nu)\n",
    "    h, k, l = QTohkl(a, Qx, Qy, Qz)\n",
    "    plt.subplot(3,4,3)\n",
    "    plt.title(\"delta\")\n",
    "    plt.plot(delta_range,h)\n",
    "    plt.ylim(0.9,1.1)\n",
    "    plt.axvline(x = delta,linestyle = '-.',linewidth = 0.7,color = 'black')\n",
    "    plt.axhline(y = 1.0,linestyle = '-.',linewidth = 0.7,color = 'black') \n",
    "    plt.subplot(3,4,7)\n",
    "    plt.plot(delta_range,k)\n",
    "    plt.ylim(-0.1,0.1)\n",
    "    plt.axvline(x = delta,linestyle = '-.',linewidth = 0.7,color = 'black')\n",
    "    plt.axhline(y = 0.0,linestyle = '-.',linewidth = 0.7,color = 'black') \n",
    "    plt.subplot(3,4,11)\n",
    "    plt.plot(delta_range,l)\n",
    "    plt.ylim(0.9,1.1)\n",
    "    plt.axvline(x = delta,linestyle = '-.',linewidth = 0.7,color = 'black')\n",
    "    plt.axhline(y = 1.0,linestyle = '-.',linewidth = 0.7,color = 'black')        \n",
    "    \n",
    "    #plot hkl vs nu\n",
    "    Qx, Qy, Qz = AnglesToQ(lamda, th, zeta, delta, nu_range)\n",
    "    h, k, l = QTohkl(a, Qx, Qy, Qz)\n",
    "    plt.subplot(3,4,4)\n",
    "    plt.title(\"nu\")\n",
    "    plt.plot(nu_range,h)\n",
    "    plt.ylim(0.9,1.1)\n",
    "    plt.axvline(x = nu,linestyle = '-.',linewidth = 0.7,color = 'black')\n",
    "    plt.axhline(y = 1.0,linestyle = '-.',linewidth = 0.7,color = 'black')        \n",
    "    plt.subplot(3,4,8)\n",
    "    plt.plot(nu_range,k)\n",
    "    plt.ylim(-0.1,0.1)\n",
    "    plt.axvline(x = nu,linestyle = '-.',linewidth = 0.7,color = 'black')\n",
    "    plt.axhline(y = 0.0,linestyle = '-.',linewidth = 0.7,color = 'black')        \n",
    "    plt.subplot(3,4,12)\n",
    "    plt.plot(nu_range,l)\n",
    "    plt.ylim(0.9,1.1)\n",
    "    plt.axvline(x = nu,linestyle = '-.',linewidth = 0.7,color = 'black')\n",
    "    plt.axhline(y = 1.0,linestyle = '-.',linewidth = 0.7,color = 'black')        \n",
    "    \n",
    "    plt.show()"
   ]
  },
  {
   "cell_type": "code",
   "execution_count": 51,
   "metadata": {},
   "outputs": [
    {
     "data": {
      "image/png": "[encoded data removed]",
      "text/plain": [
       "<matplotlib.figure.Figure at 0x114b3c198>"
      ]
     },
     "metadata": {},
     "output_type": "display_data"
    }
   ],
   "source": [
    "STOangles(3.9066,wavelenth(11.3001),1,0,1,    4.27679469439, 12, 16.2646710866, 16.3578962136) #(a,lamda,h,k,l,   th,zeta,delta,nu)"
   ]
  },
  {
   "cell_type": "code",
   "execution_count": 47,
   "metadata": {},
   "outputs": [
    {
     "name": "stdout",
     "output_type": "stream",
     "text": [
      "+-----------------------+----------------+--------+-------------+------+-------------+-------------+\n",
      "| Energy of X-ray (keV) | Temperature(C) |  a(A)  |      th     | zeta |    delta    |      nu     |\n",
      "+-----------------------+----------------+--------+-------------+------+-------------+-------------+\n",
      "|        11.3001        |      620       | 3.9251 |  10.9241726 | 5.21 | 15.93029446 | 16.52857354 |\n",
      "|        11.3001        |       30       | 3.9049 | 11.00891478 | 5.21 |  16.0101983 | 16.62107027 |\n",
      "|        11.3001        |       80       | 3.9066 |  11.0017483 | 5.21 | 16.00344396 | 16.61324425 |\n",
      "|        11.3001        |      510       | 3.9213 | 10.94004568 | 5.21 |  15.9452671 | 16.54589177 |\n",
      "|        11.3001        |      540       | 3.9223 | 10.93586549 | 5.21 |  15.9413243 | 16.54133067 |\n",
      "|        11.3001        |      570       | 3.9233 | 10.93168749 | 5.21 | 15.93738338 | 16.53677219 |\n",
      "|         12.15         |       80       | 3.9066 |  9.85244047 | 5.21 | 14.91337496 |  15.3669019 |\n",
      "+-----------------------+----------------+--------+-------------+------+-------------+-------------+\n"
     ]
    }
   ],
   "source": [
    "from prettytable import PrettyTable\n",
    "T = PrettyTable([\"Energy of X-ray (keV)\",\"Temperature(C)\", \"a(A)\", \"th\", \"zeta\", \"delta\", \"nu\"])  \n",
    "T.align[\"City name\"] = \"l\"# Left align city names\n",
    "\n",
    "T.add_row([11.3001,620, 3.9251, 10.9241726, 5.21, 15.93029446, 16.52857354])\n",
    "T.add_row([11.3001,30, 3.9049, 11.00891478, 5.21, 16.0101983, 16.62107027])  \n",
    "T.add_row([11.3001,80, 3.9066, 11.0017483, 5.21, 16.00344396, 16.61324425])  \n",
    "T.add_row([11.3001,510, 3.9213, 10.94004568, 5.21, 15.9452671, 16.54589177]) \n",
    "T.add_row([11.3001,540, 3.9223, 10.93586549, 5.21, 15.9413243, 16.54133067])\n",
    "T.add_row([11.3001,570, 3.9233, 10.93168749, 5.21, 15.93738338, 16.53677219]) \n",
    "T.add_row([12.15,80, 3.9066, 9.85244047, 5.21, 14.91337496, 15.3669019]) \n",
    "\n",
    "print(T)"
   ]
  },
  {
   "cell_type": "code",
   "execution_count": null,
   "metadata": {
    "collapsed": true
   },
   "outputs": [],
   "source": []
  }
 ],
 "metadata": {
  "kernelspec": {
   "display_name": "Python 3",
   "language": "python",
   "name": "python3"
  },
  "language_info": {
   "codemirror_mode": {
    "name": "ipython",
    "version": 3
   },
   "file_extension": ".py",
   "mimetype": "text/x-python",
   "name": "python",
   "nbconvert_exporter": "python",
   "pygments_lexer": "ipython3",
   "version": "3.6.1"
  }
 },
 "nbformat": 4,
 "nbformat_minor": 2
}
